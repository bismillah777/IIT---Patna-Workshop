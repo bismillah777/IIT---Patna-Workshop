{
 "cells": [
  {
   "cell_type": "code",
   "execution_count": 1,
   "id": "ea261a84",
   "metadata": {},
   "outputs": [
    {
     "name": "stdout",
     "output_type": "stream",
     "text": [
      "Defaulting to user installation because normal site-packages is not writeable\n",
      "Requirement already satisfied: langchain in c:\\users\\bismi\\appdata\\roaming\\python\\python311\\site-packages (0.0.330)\n",
      "Requirement already satisfied: PyYAML>=5.3 in c:\\programdata\\anaconda3\\lib\\site-packages (from langchain) (6.0)\n",
      "Requirement already satisfied: SQLAlchemy<3,>=1.4 in c:\\programdata\\anaconda3\\lib\\site-packages (from langchain) (1.4.39)\n",
      "Requirement already satisfied: aiohttp<4.0.0,>=3.8.3 in c:\\programdata\\anaconda3\\lib\\site-packages (from langchain) (3.8.5)\n",
      "Requirement already satisfied: anyio<4.0 in c:\\programdata\\anaconda3\\lib\\site-packages (from langchain) (3.5.0)\n",
      "Requirement already satisfied: dataclasses-json<0.7,>=0.5.7 in c:\\users\\bismi\\appdata\\roaming\\python\\python311\\site-packages (from langchain) (0.6.1)\n",
      "Requirement already satisfied: jsonpatch<2.0,>=1.33 in c:\\users\\bismi\\appdata\\roaming\\python\\python311\\site-packages (from langchain) (1.33)\n",
      "Requirement already satisfied: langsmith<0.1.0,>=0.0.52 in c:\\users\\bismi\\appdata\\roaming\\python\\python311\\site-packages (from langchain) (0.0.57)\n",
      "Requirement already satisfied: numpy<2,>=1 in c:\\programdata\\anaconda3\\lib\\site-packages (from langchain) (1.24.3)\n",
      "Requirement already satisfied: pydantic<3,>=1 in c:\\programdata\\anaconda3\\lib\\site-packages (from langchain) (1.10.8)\n",
      "Requirement already satisfied: requests<3,>=2 in c:\\programdata\\anaconda3\\lib\\site-packages (from langchain) (2.31.0)\n",
      "Requirement already satisfied: tenacity<9.0.0,>=8.1.0 in c:\\programdata\\anaconda3\\lib\\site-packages (from langchain) (8.2.2)\n",
      "Requirement already satisfied: attrs>=17.3.0 in c:\\programdata\\anaconda3\\lib\\site-packages (from aiohttp<4.0.0,>=3.8.3->langchain) (22.1.0)\n",
      "Requirement already satisfied: charset-normalizer<4.0,>=2.0 in c:\\programdata\\anaconda3\\lib\\site-packages (from aiohttp<4.0.0,>=3.8.3->langchain) (2.0.4)\n",
      "Requirement already satisfied: multidict<7.0,>=4.5 in c:\\programdata\\anaconda3\\lib\\site-packages (from aiohttp<4.0.0,>=3.8.3->langchain) (6.0.2)\n",
      "Requirement already satisfied: async-timeout<5.0,>=4.0.0a3 in c:\\programdata\\anaconda3\\lib\\site-packages (from aiohttp<4.0.0,>=3.8.3->langchain) (4.0.2)\n",
      "Requirement already satisfied: yarl<2.0,>=1.0 in c:\\programdata\\anaconda3\\lib\\site-packages (from aiohttp<4.0.0,>=3.8.3->langchain) (1.8.1)\n",
      "Requirement already satisfied: frozenlist>=1.1.1 in c:\\programdata\\anaconda3\\lib\\site-packages (from aiohttp<4.0.0,>=3.8.3->langchain) (1.3.3)\n",
      "Requirement already satisfied: aiosignal>=1.1.2 in c:\\programdata\\anaconda3\\lib\\site-packages (from aiohttp<4.0.0,>=3.8.3->langchain) (1.2.0)\n",
      "Requirement already satisfied: idna>=2.8 in c:\\programdata\\anaconda3\\lib\\site-packages (from anyio<4.0->langchain) (3.4)\n",
      "Requirement already satisfied: sniffio>=1.1 in c:\\programdata\\anaconda3\\lib\\site-packages (from anyio<4.0->langchain) (1.2.0)\n",
      "Requirement already satisfied: marshmallow<4.0.0,>=3.18.0 in c:\\users\\bismi\\appdata\\roaming\\python\\python311\\site-packages (from dataclasses-json<0.7,>=0.5.7->langchain) (3.20.1)\n",
      "Requirement already satisfied: typing-inspect<1,>=0.4.0 in c:\\users\\bismi\\appdata\\roaming\\python\\python311\\site-packages (from dataclasses-json<0.7,>=0.5.7->langchain) (0.9.0)\n",
      "Requirement already satisfied: jsonpointer>=1.9 in c:\\programdata\\anaconda3\\lib\\site-packages (from jsonpatch<2.0,>=1.33->langchain) (2.1)\n",
      "Requirement already satisfied: typing-extensions>=4.2.0 in c:\\programdata\\anaconda3\\lib\\site-packages (from pydantic<3,>=1->langchain) (4.7.1)\n",
      "Requirement already satisfied: urllib3<3,>=1.21.1 in c:\\programdata\\anaconda3\\lib\\site-packages (from requests<3,>=2->langchain) (1.26.16)\n",
      "Requirement already satisfied: certifi>=2017.4.17 in c:\\programdata\\anaconda3\\lib\\site-packages (from requests<3,>=2->langchain) (2023.7.22)\n",
      "Requirement already satisfied: greenlet!=0.4.17 in c:\\programdata\\anaconda3\\lib\\site-packages (from SQLAlchemy<3,>=1.4->langchain) (2.0.1)\n",
      "Requirement already satisfied: packaging>=17.0 in c:\\programdata\\anaconda3\\lib\\site-packages (from marshmallow<4.0.0,>=3.18.0->dataclasses-json<0.7,>=0.5.7->langchain) (23.1)\n",
      "Requirement already satisfied: mypy-extensions>=0.3.0 in c:\\programdata\\anaconda3\\lib\\site-packages (from typing-inspect<1,>=0.4.0->dataclasses-json<0.7,>=0.5.7->langchain) (1.0.0)\n",
      "Defaulting to user installation because normal site-packages is not writeable\n",
      "Requirement already satisfied: tiktoken in c:\\users\\bismi\\appdata\\roaming\\python\\python311\\site-packages (0.5.1)\n",
      "Requirement already satisfied: regex>=2022.1.18 in c:\\programdata\\anaconda3\\lib\\site-packages (from tiktoken) (2022.7.9)\n",
      "Requirement already satisfied: requests>=2.26.0 in c:\\programdata\\anaconda3\\lib\\site-packages (from tiktoken) (2.31.0)\n",
      "Requirement already satisfied: charset-normalizer<4,>=2 in c:\\programdata\\anaconda3\\lib\\site-packages (from requests>=2.26.0->tiktoken) (2.0.4)\n",
      "Requirement already satisfied: idna<4,>=2.5 in c:\\programdata\\anaconda3\\lib\\site-packages (from requests>=2.26.0->tiktoken) (3.4)\n",
      "Requirement already satisfied: urllib3<3,>=1.21.1 in c:\\programdata\\anaconda3\\lib\\site-packages (from requests>=2.26.0->tiktoken) (1.26.16)\n",
      "Requirement already satisfied: certifi>=2017.4.17 in c:\\programdata\\anaconda3\\lib\\site-packages (from requests>=2.26.0->tiktoken) (2023.7.22)\n"
     ]
    }
   ],
   "source": [
    "! pip install langchain\n",
    "! pip install tiktoken"
   ]
  },
  {
   "cell_type": "code",
   "execution_count": 2,
   "id": "10ad7d81",
   "metadata": {},
   "outputs": [],
   "source": [
    "import os\n",
    "from dotenv import load_dotenv,find_dotenv\n",
    "import openai\n",
    "from langchain import llms\n",
    "from langchain.llms import OpenAI\n",
    "import warnings"
   ]
  },
  {
   "cell_type": "code",
   "execution_count": 3,
   "id": "a9146e07",
   "metadata": {},
   "outputs": [
    {
     "data": {
      "text/plain": [
       "['Any',\n",
       " 'BaseLLM',\n",
       " 'Callable',\n",
       " 'Dict',\n",
       " 'Type',\n",
       " '__all__',\n",
       " '__builtins__',\n",
       " '__cached__',\n",
       " '__doc__',\n",
       " '__file__',\n",
       " '__getattr__',\n",
       " '__loader__',\n",
       " '__name__',\n",
       " '__package__',\n",
       " '__path__',\n",
       " '__spec__',\n",
       " '_import_ai21',\n",
       " '_import_aleph_alpha',\n",
       " '_import_amazon_api_gateway',\n",
       " '_import_anthropic',\n",
       " '_import_anyscale',\n",
       " '_import_arcee',\n",
       " '_import_aviary',\n",
       " '_import_azure_openai',\n",
       " '_import_azureml_endpoint',\n",
       " '_import_baidu_qianfan_endpoint',\n",
       " '_import_bananadev',\n",
       " '_import_baseten',\n",
       " '_import_beam',\n",
       " '_import_bedrock',\n",
       " '_import_bittensor',\n",
       " '_import_cerebriumai',\n",
       " '_import_chatglm',\n",
       " '_import_clarifai',\n",
       " '_import_cohere',\n",
       " '_import_ctransformers',\n",
       " '_import_ctranslate2',\n",
       " '_import_databricks',\n",
       " '_import_deepinfra',\n",
       " '_import_deepsparse',\n",
       " '_import_edenai',\n",
       " '_import_fake',\n",
       " '_import_fireworks',\n",
       " '_import_forefrontai',\n",
       " '_import_gigachat',\n",
       " '_import_google_palm',\n",
       " '_import_gooseai',\n",
       " '_import_gpt4all',\n",
       " '_import_gradient_ai',\n",
       " '_import_huggingface_endpoint',\n",
       " '_import_huggingface_hub',\n",
       " '_import_huggingface_pipeline',\n",
       " '_import_huggingface_text_gen_inference',\n",
       " '_import_human',\n",
       " '_import_javelin_ai_gateway',\n",
       " '_import_koboldai',\n",
       " '_import_llamacpp',\n",
       " '_import_manifest',\n",
       " '_import_minimax',\n",
       " '_import_mlflow_ai_gateway',\n",
       " '_import_modal',\n",
       " '_import_mosaicml',\n",
       " '_import_nlpcloud',\n",
       " '_import_octoai_endpoint',\n",
       " '_import_ollama',\n",
       " '_import_opaqueprompts',\n",
       " '_import_openai',\n",
       " '_import_openai_chat',\n",
       " '_import_openllm',\n",
       " '_import_openlm',\n",
       " '_import_pai_eas_endpoint',\n",
       " '_import_petals',\n",
       " '_import_pipelineai',\n",
       " '_import_predibase',\n",
       " '_import_predictionguard',\n",
       " '_import_promptlayer',\n",
       " '_import_promptlayer_chat',\n",
       " '_import_replicate',\n",
       " '_import_rwkv',\n",
       " '_import_sagemaker_endpoint',\n",
       " '_import_self_hosted',\n",
       " '_import_self_hosted_hugging_face',\n",
       " '_import_stochasticai',\n",
       " '_import_symblai_nebula',\n",
       " '_import_textgen',\n",
       " '_import_titan_takeoff',\n",
       " '_import_titan_takeoff_pro',\n",
       " '_import_together',\n",
       " '_import_tongyi',\n",
       " '_import_vertex',\n",
       " '_import_vertex_model_garden',\n",
       " '_import_vllm',\n",
       " '_import_vllm_openai',\n",
       " '_import_writer',\n",
       " '_import_xinference',\n",
       " '_import_yandex_gpt',\n",
       " 'base',\n",
       " 'get_type_to_cls_dict',\n",
       " 'openai']"
      ]
     },
     "execution_count": 3,
     "metadata": {},
     "output_type": "execute_result"
    }
   ],
   "source": [
    "dir(llms)"
   ]
  },
  {
   "cell_type": "code",
   "execution_count": 4,
   "id": "05e15075",
   "metadata": {},
   "outputs": [
    {
     "data": {
      "text/plain": [
       "True"
      ]
     },
     "execution_count": 4,
     "metadata": {},
     "output_type": "execute_result"
    }
   ],
   "source": [
    "load_dotenv(find_dotenv(),override=True)"
   ]
  },
  {
   "cell_type": "markdown",
   "id": "64e7e0c7",
   "metadata": {},
   "source": [
    "#### LLM Wrappers"
   ]
  },
  {
   "cell_type": "code",
   "execution_count": 5,
   "id": "31fde337",
   "metadata": {},
   "outputs": [],
   "source": [
    "openai.api_key=os.environ[\"OPENAI_API_KEY\"]"
   ]
  },
  {
   "cell_type": "markdown",
   "id": "a124dc47",
   "metadata": {},
   "source": [
    "# llm wrappers>>openai"
   ]
  },
  {
   "cell_type": "code",
   "execution_count": 7,
   "id": "e675710f",
   "metadata": {},
   "outputs": [
    {
     "name": "stdout",
     "output_type": "stream",
     "text": [
      "\n",
      "\n",
      "LLM stands for \"Master of Laws,\" which is a postgraduate degree in law. It is typically a one-year program that provides advanced legal training and education to students who have already earned a first degree in law. LLM programs are designed to help students specialize in a particular area of law, such as international law, tax law, or corporate law.\n"
     ]
    }
   ],
   "source": [
    "llm_models=OpenAI(model_name='text-davinci-003',n=1,best_of=2,temperature=0.1)\n",
    "print(llm_models(\"explain what is llm\"))"
   ]
  },
  {
   "cell_type": "code",
   "execution_count": 10,
   "id": "ed8f9375",
   "metadata": {},
   "outputs": [
    {
     "name": "stdout",
     "output_type": "stream",
     "text": [
      "\u001b[1mOpenAI\u001b[0m\n",
      "Params: {'model_name': 'text-davinci-003', 'temperature': 0.1, 'max_tokens': 256, 'top_p': 1, 'frequency_penalty': 0, 'presence_penalty': 0, 'n': 1, 'request_timeout': None, 'logit_bias': {}, 'best_of': 2}\n"
     ]
    }
   ],
   "source": [
    "print(llm_models)"
   ]
  },
  {
   "cell_type": "code",
   "execution_count": 16,
   "id": "3dee360c",
   "metadata": {},
   "outputs": [
    {
     "data": {
      "text/plain": [
       "6"
      ]
     },
     "execution_count": 16,
     "metadata": {},
     "output_type": "execute_result"
    }
   ],
   "source": [
    "llm_models.get_num_tokens(\"explain what is llm\")"
   ]
  },
  {
   "cell_type": "markdown",
   "id": "dba7d500",
   "metadata": {},
   "source": [
    "# prediction"
   ]
  },
  {
   "cell_type": "code",
   "execution_count": 17,
   "id": "ec7bf72c",
   "metadata": {},
   "outputs": [
    {
     "name": "stdout",
     "output_type": "stream",
     "text": [
      "\n",
      "\n",
      "Narendra Modi is the current Prime Minister of India.\n"
     ]
    }
   ],
   "source": [
    "pre_out=llm_models.predict(\"who is prime minister of india?\")\n",
    "print(pre_out)"
   ]
  },
  {
   "cell_type": "code",
   "execution_count": 18,
   "id": "0930c4d1",
   "metadata": {},
   "outputs": [
    {
     "name": "stdout",
     "output_type": "stream",
     "text": [
      "\n",
      "\n",
      "IIT-Patna is located in Bihta, Patna, Bihar, India.\n"
     ]
    }
   ],
   "source": [
    "pre_out=llm_models.predict(\"where is IIT-Patna\")\n",
    "print(pre_out)"
   ]
  },
  {
   "cell_type": "code",
   "execution_count": 38,
   "id": "821c2bac",
   "metadata": {},
   "outputs": [],
   "source": [
    "name=\"Tanu Kumari\"\n",
    "location=\"Rajeev Nagar\""
   ]
  },
  {
   "cell_type": "code",
   "execution_count": 39,
   "id": "f016b4d1",
   "metadata": {},
   "outputs": [
    {
     "name": "stdout",
     "output_type": "stream",
     "text": [
      "what is your name Tanu Kumari and what is your location Rajeev Nagar\n"
     ]
    }
   ],
   "source": [
    "print(f\"what is your name {name} and what is your location {location}\")"
   ]
  },
  {
   "cell_type": "markdown",
   "id": "690502cf",
   "metadata": {},
   "source": [
    "# promp temp"
   ]
  },
  {
   "cell_type": "code",
   "execution_count": 25,
   "id": "6f1b4b66",
   "metadata": {},
   "outputs": [],
   "source": [
    "from langchain.prompts import PromptTemplate\n",
    "from langchain.llms import OpenAI"
   ]
  },
  {
   "cell_type": "code",
   "execution_count": 40,
   "id": "e9d9b04b",
   "metadata": {},
   "outputs": [],
   "source": [
    "my_temp=\"\"\"\n",
    "        You are experianced healthcare assistant having knowledge of medicine and its side effects .\n",
    "        Suggest few side effects and prevention about the following {medicine}in {language}\n",
    "        \"\"\""
   ]
  },
  {
   "cell_type": "code",
   "execution_count": 54,
   "id": "916328d6",
   "metadata": {},
   "outputs": [],
   "source": [
    "prompt=PromptTemplate(input_variables=[\"medicine\",\"language\"],template=my_temp)"
   ]
  },
  {
   "cell_type": "code",
   "execution_count": 55,
   "id": "2c620d92",
   "metadata": {},
   "outputs": [
    {
     "name": "stdout",
     "output_type": "stream",
     "text": [
      "input_variables=['language', 'medicine'] template='\\n        You are experianced healthcare assistant having knowledge of medicine and its side effects .\\n        Suggest few side effects and prevention about the following {medicine}in {language}\\n        '\n"
     ]
    }
   ],
   "source": [
    "print(prompt)"
   ]
  },
  {
   "cell_type": "code",
   "execution_count": 56,
   "id": "e0895789",
   "metadata": {},
   "outputs": [],
   "source": [
    "llm_model=OpenAI(model_name='text-davinci-003',temperature=0.7)"
   ]
  },
  {
   "cell_type": "code",
   "execution_count": 60,
   "id": "4156e204",
   "metadata": {},
   "outputs": [
    {
     "name": "stdout",
     "output_type": "stream",
     "text": [
      "\n",
      "Side Effects: \n",
      "1. Stomach upset\n",
      "2. Diarrhea\n",
      "3. Headache\n",
      "4. Dizziness\n",
      "5. Skin rash\n",
      "\n",
      "Prevention:\n",
      "1. Take Megapen-500 with food to reduce stomach upset.\n",
      "2. Drink plenty of fluids to help reduce diarrhea.\n",
      "3. Take the medication with plenty of water.\n",
      "4. Avoid activities that require alertness until you know how the medication affects you.\n",
      "5. Wash the affected area immediately if you develop a skin rash.\n"
     ]
    }
   ],
   "source": [
    "output=llm_model(prompt.format(medicine='Megapen-500',language='English'))\n",
    "print(output)"
   ]
  },
  {
   "cell_type": "code",
   "execution_count": 3,
   "id": "a7fba379",
   "metadata": {},
   "outputs": [],
   "source": [
    "my_temp1='''you are a expert data scientist, give response to the following questions : {question}.\n",
    "Do not use technical words, give easy to understand responses.Your response should be within {sentences} and convert into {language}'''"
   ]
  },
  {
   "cell_type": "code",
   "execution_count": 6,
   "id": "ca7bce8a",
   "metadata": {},
   "outputs": [],
   "source": [
    "#prompt=PromptTemplate(input_variables=['question','sentences','language'],template=my_temp1)"
   ]
  },
  {
   "cell_type": "code",
   "execution_count": 7,
   "id": "08c10900",
   "metadata": {},
   "outputs": [],
   "source": [
    "#print(prompt)"
   ]
  },
  {
   "cell_type": "code",
   "execution_count": null,
   "id": "ee66d4c4",
   "metadata": {},
   "outputs": [],
   "source": [
    "llm=OpenAI(model_name=\"text-davinci-003\",temperature=0.7)\n",
    "output=llm_model(prompt.format(question='What is data science',sentences=6,language='hindi'))\n",
    "print(output)\n"
   ]
  },
  {
   "cell_type": "code",
   "execution_count": null,
   "id": "5d4270fe",
   "metadata": {},
   "outputs": [],
   "source": []
  }
 ],
 "metadata": {
  "kernelspec": {
   "display_name": "Python 3 (ipykernel)",
   "language": "python",
   "name": "python3"
  },
  "language_info": {
   "codemirror_mode": {
    "name": "ipython",
    "version": 3
   },
   "file_extension": ".py",
   "mimetype": "text/x-python",
   "name": "python",
   "nbconvert_exporter": "python",
   "pygments_lexer": "ipython3",
   "version": "3.11.5"
  }
 },
 "nbformat": 4,
 "nbformat_minor": 5
}
