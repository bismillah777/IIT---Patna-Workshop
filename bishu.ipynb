{
 "cells": [
  {
   "cell_type": "code",
   "execution_count": 1,
   "metadata": {},
   "outputs": [
    {
     "name": "stdout",
     "output_type": "stream",
     "text": [
      "Collecting dotenv"
     ]
    },
    {
     "name": "stderr",
     "output_type": "stream",
     "text": [
      "    ERROR: Command errored out with exit status 1:\n",
      "     command: 'C:\\ProgramData\\Anaconda3\\python.exe' -c 'import sys, setuptools, tokenize; sys.argv[0] = '\"'\"'C:\\\\Users\\\\iibm\\\\AppData\\\\Local\\\\Temp\\\\pip-install-_eslub5x\\\\dotenv\\\\setup.py'\"'\"'; __file__='\"'\"'C:\\\\Users\\\\iibm\\\\AppData\\\\Local\\\\Temp\\\\pip-install-_eslub5x\\\\dotenv\\\\setup.py'\"'\"';f=getattr(tokenize, '\"'\"'open'\"'\"', open)(__file__);code=f.read().replace('\"'\"'\\r\\n'\"'\"', '\"'\"'\\n'\"'\"');f.close();exec(compile(code, __file__, '\"'\"'exec'\"'\"'))' egg_info --egg-base 'C:\\Users\\iibm\\AppData\\Local\\Temp\\pip-pip-egg-info-b4ohyyvm'\n",
      "         cwd: C:\\Users\\iibm\\AppData\\Local\\Temp\\pip-install-_eslub5x\\dotenv\\\n",
      "    Complete output (51 lines):\n",
      "        ERROR: Command errored out with exit status 1:\n",
      "         command: 'C:\\ProgramData\\Anaconda3\\python.exe' -c 'import sys, setuptools, tokenize; sys.argv[0] = '\"'\"'C:\\\\Users\\\\iibm\\\\AppData\\\\Local\\\\Temp\\\\pip-wheel-2jbrz9rg\\\\distribute\\\\setup.py'\"'\"'; __file__='\"'\"'C:\\\\Users\\\\iibm\\\\AppData\\\\Local\\\\Temp\\\\pip-wheel-2jbrz9rg\\\\distribute\\\\setup.py'\"'\"';f=getattr(tokenize, '\"'\"'open'\"'\"', open)(__file__);code=f.read().replace('\"'\"'\\r\\n'\"'\"', '\"'\"'\\n'\"'\"');f.close();exec(compile(code, __file__, '\"'\"'exec'\"'\"'))' egg_info --egg-base 'C:\\Users\\iibm\\AppData\\Local\\Temp\\pip-pip-egg-info-duptzhr8'\n",
      "             cwd: C:\\Users\\iibm\\AppData\\Local\\Temp\\pip-wheel-2jbrz9rg\\distribute\\\n",
      "        Complete output (15 lines):\n",
      "        Traceback (most recent call last):\n",
      "          File \"<string>\", line 1, in <module>\n",
      "          File \"C:\\Users\\iibm\\AppData\\Local\\Temp\\pip-wheel-2jbrz9rg\\distribute\\setuptools\\__init__.py\", line 2, in <module>\n",
      "            from setuptools.extension import Extension, Library\n",
      "          File \"C:\\Users\\iibm\\AppData\\Local\\Temp\\pip-wheel-2jbrz9rg\\distribute\\setuptools\\extension.py\", line 5, in <module>\n",
      "            from setuptools.dist import _get_unpatched\n",
      "          File \"C:\\Users\\iibm\\AppData\\Local\\Temp\\pip-wheel-2jbrz9rg\\distribute\\setuptools\\dist.py\", line 7, in <module>\n",
      "            from setuptools.command.install import install\n",
      "          File \"C:\\Users\\iibm\\AppData\\Local\\Temp\\pip-wheel-2jbrz9rg\\distribute\\setuptools\\command\\__init__.py\", line 8, in <module>\n",
      "            from setuptools.command import install_scripts\n",
      "          File \"C:\\Users\\iibm\\AppData\\Local\\Temp\\pip-wheel-2jbrz9rg\\distribute\\setuptools\\command\\install_scripts.py\", line 3, in <module>\n",
      "            from pkg_resources import Distribution, PathMetadata, ensure_directory\n",
      "          File \"C:\\Users\\iibm\\AppData\\Local\\Temp\\pip-wheel-2jbrz9rg\\distribute\\pkg_resources.py\", line 1518, in <module>\n",
      "            register_loader_type(importlib_bootstrap.SourceFileLoader, DefaultProvider)\n",
      "        AttributeError: module 'importlib._bootstrap' has no attribute 'SourceFileLoader'\n",
      "        ----------------------------------------\n",
      "    ERROR: Command errored out with exit status 1: python setup.py egg_info Check the logs for full command output.\n",
      "    Traceback (most recent call last):\n",
      "      File \"C:\\ProgramData\\Anaconda3\\lib\\site-packages\\setuptools\\installer.py\", line 126, in fetch_build_egg\n",
      "        subprocess.check_call(cmd)\n",
      "      File \"C:\\ProgramData\\Anaconda3\\lib\\subprocess.py\", line 364, in check_call\n",
      "        raise CalledProcessError(retcode, cmd)\n",
      "    subprocess.CalledProcessError: Command '['C:\\\\ProgramData\\\\Anaconda3\\\\python.exe', '-m', 'pip', '--disable-pip-version-check', 'wheel', '--no-deps', '-w', 'C:\\\\Users\\\\iibm\\\\AppData\\\\Local\\\\Temp\\\\tmpeorqshph', '--quiet', 'distribute']' returned non-zero exit status 1.\n",
      "    \n",
      "    The above exception was the direct cause of the following exception:\n",
      "    \n",
      "    Traceback (most recent call last):\n",
      "      File \"<string>\", line 1, in <module>\n",
      "      File \"C:\\Users\\iibm\\AppData\\Local\\Temp\\pip-install-_eslub5x\\dotenv\\setup.py\", line 13, in <module>\n",
      "        setup(name='dotenv',\n",
      "      File \"C:\\ProgramData\\Anaconda3\\lib\\site-packages\\setuptools\\__init__.py\", line 152, in setup\n",
      "        _install_setup_requires(attrs)\n",
      "      File \"C:\\ProgramData\\Anaconda3\\lib\\site-packages\\setuptools\\__init__.py\", line 147, in _install_setup_requires\n",
      "        dist.fetch_build_eggs(dist.setup_requires)\n",
      "      File \"C:\\ProgramData\\Anaconda3\\lib\\site-packages\\setuptools\\dist.py\", line 673, in fetch_build_eggs\n",
      "        resolved_dists = pkg_resources.working_set.resolve(\n",
      "      File \"C:\\ProgramData\\Anaconda3\\lib\\site-packages\\pkg_resources\\__init__.py\", line 764, in resolve\n",
      "        dist = best[req.key] = env.best_match(\n",
      "      File \"C:\\ProgramData\\Anaconda3\\lib\\site-packages\\pkg_resources\\__init__.py\", line 1049, in best_match\n",
      "        return self.obtain(req, installer)\n",
      "      File \"C:\\ProgramData\\Anaconda3\\lib\\site-packages\\pkg_resources\\__init__.py\", line 1061, in obtain\n",
      "        return installer(requirement)\n",
      "      File \"C:\\ProgramData\\Anaconda3\\lib\\site-packages\\setuptools\\dist.py\", line 732, in fetch_build_egg\n",
      "        return fetch_build_egg(self, req)\n",
      "      File \"C:\\ProgramData\\Anaconda3\\lib\\site-packages\\setuptools\\installer.py\", line 128, in fetch_build_egg\n",
      "        raise DistutilsError(str(e)) from e\n",
      "    distutils.errors.DistutilsError: Command '['C:\\\\ProgramData\\\\Anaconda3\\\\python.exe', '-m', 'pip', '--disable-pip-version-check', 'wheel', '--no-deps', '-w', 'C:\\\\Users\\\\iibm\\\\AppData\\\\Local\\\\Temp\\\\tmpeorqshph', '--quiet', 'distribute']' returned non-zero exit status 1.\n",
      "    ----------------------------------------\n",
      "ERROR: Command errored out with exit status 1: python setup.py egg_info Check the logs for full command output.\n"
     ]
    },
    {
     "name": "stdout",
     "output_type": "stream",
     "text": [
      "\n",
      "  Downloading dotenv-0.0.5.tar.gz (2.4 kB)\n",
      "Collecting langchain\n",
      "  Downloading langchain-0.1.16-py3-none-any.whl (817 kB)\n",
      "Collecting pydantic<3,>=1\n",
      "  Downloading pydantic-2.7.1-py3-none-any.whl (409 kB)\n",
      "Collecting langchain-text-splitters<0.1,>=0.0.1\n",
      "  Downloading langchain_text_splitters-0.0.1-py3-none-any.whl (21 kB)\n",
      "Collecting aiohttp<4.0.0,>=3.8.3\n"
     ]
    },
    {
     "name": "stderr",
     "output_type": "stream",
     "text": [
      "ERROR: Could not install packages due to an EnvironmentError: [WinError 5] Access is denied: 'c:\\\\programdata\\\\anaconda3\\\\lib\\\\site-packages\\\\__pycache__\\\\typing_extensions.cpython-38.pyc'\n",
      "Consider using the `--user` option or check the permissions.\n",
      "\n"
     ]
    },
    {
     "name": "stdout",
     "output_type": "stream",
     "text": [
      "  Downloading aiohttp-3.9.5-cp38-cp38-win_amd64.whl (373 kB)\n",
      "Collecting tenacity<9.0.0,>=8.1.0\n",
      "  Downloading tenacity-8.2.3-py3-none-any.whl (24 kB)\n",
      "Collecting jsonpatch<2.0,>=1.33\n",
      "  Downloading jsonpatch-1.33-py2.py3-none-any.whl (12 kB)\n",
      "Collecting langchain-community<0.1,>=0.0.32\n",
      "  Downloading langchain_community-0.0.34-py3-none-any.whl (1.9 MB)\n",
      "Requirement already satisfied: numpy<2,>=1 in c:\\programdata\\anaconda3\\lib\\site-packages (from langchain) (1.19.2)\n",
      "Collecting async-timeout<5.0.0,>=4.0.0; python_version < \"3.11\"\n",
      "  Downloading async_timeout-4.0.3-py3-none-any.whl (5.7 kB)\n",
      "Requirement already satisfied: PyYAML>=5.3 in c:\\programdata\\anaconda3\\lib\\site-packages (from langchain) (5.3.1)\n",
      "Collecting langchain-core<0.2.0,>=0.1.42\n",
      "  Downloading langchain_core-0.1.45-py3-none-any.whl (291 kB)\n",
      "Collecting langsmith<0.2.0,>=0.1.17\n",
      "  Downloading langsmith-0.1.50-py3-none-any.whl (115 kB)\n",
      "Collecting dataclasses-json<0.7,>=0.5.7\n",
      "  Downloading dataclasses_json-0.6.4-py3-none-any.whl (28 kB)\n",
      "Requirement already satisfied: requests<3,>=2 in c:\\programdata\\anaconda3\\lib\\site-packages (from langchain) (2.24.0)\n",
      "Collecting SQLAlchemy<3,>=1.4\n",
      "  Downloading SQLAlchemy-2.0.29-cp38-cp38-win_amd64.whl (2.1 MB)\n",
      "Collecting pydantic-core==2.18.2\n",
      "  Downloading pydantic_core-2.18.2-cp38-none-win_amd64.whl (1.9 MB)\n",
      "Collecting typing-extensions>=4.6.1\n",
      "  Downloading typing_extensions-4.11.0-py3-none-any.whl (34 kB)\n",
      "Collecting annotated-types>=0.4.0\n",
      "  Downloading annotated_types-0.6.0-py3-none-any.whl (12 kB)\n",
      "Collecting multidict<7.0,>=4.5\n",
      "  Downloading multidict-6.0.5-cp38-cp38-win_amd64.whl (28 kB)\n",
      "Collecting yarl<2.0,>=1.0\n",
      "  Downloading yarl-1.9.4-cp38-cp38-win_amd64.whl (77 kB)\n",
      "Collecting aiosignal>=1.1.2\n",
      "  Downloading aiosignal-1.3.1-py3-none-any.whl (7.6 kB)\n",
      "Collecting frozenlist>=1.1.1\n",
      "  Downloading frozenlist-1.4.1-cp38-cp38-win_amd64.whl (50 kB)\n",
      "Requirement already satisfied: attrs>=17.3.0 in c:\\programdata\\anaconda3\\lib\\site-packages (from aiohttp<4.0.0,>=3.8.3->langchain) (20.3.0)\n",
      "Collecting jsonpointer>=1.9\n",
      "  Downloading jsonpointer-2.4-py2.py3-none-any.whl (7.8 kB)\n",
      "Collecting packaging<24.0,>=23.2\n",
      "  Downloading packaging-23.2-py3-none-any.whl (53 kB)\n",
      "Collecting orjson<4.0.0,>=3.9.14\n",
      "  Downloading orjson-3.10.1-cp38-none-win_amd64.whl (138 kB)\n",
      "Collecting marshmallow<4.0.0,>=3.18.0\n",
      "  Downloading marshmallow-3.21.1-py3-none-any.whl (49 kB)\n",
      "Collecting typing-inspect<1,>=0.4.0\n",
      "  Downloading typing_inspect-0.9.0-py3-none-any.whl (8.8 kB)\n",
      "Requirement already satisfied: idna<3,>=2.5 in c:\\programdata\\anaconda3\\lib\\site-packages (from requests<3,>=2->langchain) (2.10)\n",
      "Requirement already satisfied: urllib3!=1.25.0,!=1.25.1,<1.26,>=1.21.1 in c:\\programdata\\anaconda3\\lib\\site-packages (from requests<3,>=2->langchain) (1.25.11)\n",
      "Requirement already satisfied: certifi>=2017.4.17 in c:\\programdata\\anaconda3\\lib\\site-packages (from requests<3,>=2->langchain) (2020.6.20)\n",
      "Requirement already satisfied: chardet<4,>=3.0.2 in c:\\programdata\\anaconda3\\lib\\site-packages (from requests<3,>=2->langchain) (3.0.4)\n",
      "Collecting greenlet!=0.4.17; platform_machine == \"aarch64\" or (platform_machine == \"ppc64le\" or (platform_machine == \"x86_64\" or (platform_machine == \"amd64\" or (platform_machine == \"AMD64\" or (platform_machine == \"win32\" or platform_machine == \"WIN32\")))))\n",
      "  Downloading greenlet-3.0.3-cp38-cp38-win_amd64.whl (290 kB)\n",
      "Collecting mypy-extensions>=0.3.0\n",
      "  Downloading mypy_extensions-1.0.0-py3-none-any.whl (4.7 kB)\n",
      "Installing collected packages: typing-extensions, pydantic-core, annotated-types, pydantic, orjson, langsmith, tenacity, jsonpointer, jsonpatch, packaging, langchain-core, langchain-text-splitters, multidict, yarl, frozenlist, aiosignal, async-timeout, aiohttp, marshmallow, mypy-extensions, typing-inspect, dataclasses-json, greenlet, SQLAlchemy, langchain-community, langchain\n",
      "  Attempting uninstall: typing-extensions\n",
      "    Found existing installation: typing-extensions 3.7.4.3\n",
      "    Uninstalling typing-extensions-3.7.4.3:\n"
     ]
    }
   ],
   "source": [
    "! pip install dotenv\n",
    "! pip install langchain"
   ]
  },
  {
   "cell_type": "code",
   "execution_count": 3,
   "metadata": {},
   "outputs": [
    {
     "name": "stderr",
     "output_type": "stream",
     "text": [
      "ERROR: Could not install packages due to an EnvironmentError: [WinError 5] Access is denied: 'c:\\\\programdata\\\\anaconda3\\\\lib\\\\site-packages\\\\__pycache__\\\\typing_extensions.cpython-38.pyc'\n",
      "Consider using the `--user` option or check the permissions.\n",
      "\n"
     ]
    },
    {
     "name": "stdout",
     "output_type": "stream",
     "text": [
      "Collecting OpenAi\n",
      "  Downloading openai-1.23.3-py3-none-any.whl (311 kB)\n",
      "Collecting distro<2,>=1.7.0\n",
      "  Downloading distro-1.9.0-py3-none-any.whl (20 kB)\n",
      "Collecting sniffio\n",
      "  Downloading sniffio-1.3.1-py3-none-any.whl (10 kB)\n",
      "Collecting pydantic<3,>=1.9.0\n",
      "  Using cached pydantic-2.7.1-py3-none-any.whl (409 kB)\n",
      "Collecting typing-extensions<5,>=4.7\n",
      "  Using cached typing_extensions-4.11.0-py3-none-any.whl (34 kB)\n",
      "Collecting anyio<5,>=3.5.0\n",
      "  Downloading anyio-4.3.0-py3-none-any.whl (85 kB)\n",
      "Collecting httpx<1,>=0.23.0\n",
      "  Downloading httpx-0.27.0-py3-none-any.whl (75 kB)\n",
      "Requirement already satisfied: tqdm>4 in c:\\programdata\\anaconda3\\lib\\site-packages (from OpenAi) (4.50.2)\n",
      "Collecting annotated-types>=0.4.0\n",
      "  Using cached annotated_types-0.6.0-py3-none-any.whl (12 kB)\n",
      "Collecting pydantic-core==2.18.2\n",
      "  Using cached pydantic_core-2.18.2-cp38-none-win_amd64.whl (1.9 MB)\n",
      "Requirement already satisfied: idna>=2.8 in c:\\programdata\\anaconda3\\lib\\site-packages (from anyio<5,>=3.5.0->OpenAi) (2.10)\n",
      "Collecting exceptiongroup>=1.0.2; python_version < \"3.11\"\n",
      "  Downloading exceptiongroup-1.2.1-py3-none-any.whl (16 kB)\n",
      "Requirement already satisfied: certifi in c:\\programdata\\anaconda3\\lib\\site-packages (from httpx<1,>=0.23.0->OpenAi) (2020.6.20)\n",
      "Collecting httpcore==1.*\n",
      "  Downloading httpcore-1.0.5-py3-none-any.whl (77 kB)\n",
      "Collecting h11<0.15,>=0.13\n",
      "  Downloading h11-0.14.0-py3-none-any.whl (58 kB)\n",
      "Installing collected packages: distro, sniffio, typing-extensions, annotated-types, pydantic-core, pydantic, exceptiongroup, anyio, h11, httpcore, httpx, OpenAi\n",
      "  Attempting uninstall: typing-extensions\n",
      "    Found existing installation: typing-extensions 3.7.4.3\n",
      "    Uninstalling typing-extensions-3.7.4.3:\n"
     ]
    }
   ],
   "source": [
    "! pip install OpenAi"
   ]
  },
  {
   "cell_type": "code",
   "execution_count": 4,
   "metadata": {},
   "outputs": [
    {
     "ename": "ModuleNotFoundError",
     "evalue": "No module named 'openai'",
     "output_type": "error",
     "traceback": [
      "\u001b[1;31m---------------------------------------------------------------------------\u001b[0m",
      "\u001b[1;31mModuleNotFoundError\u001b[0m                       Traceback (most recent call last)",
      "\u001b[1;32m<ipython-input-4-84b17ca48981>\u001b[0m in \u001b[0;36m<module>\u001b[1;34m\u001b[0m\n\u001b[1;32m----> 1\u001b[1;33m \u001b[1;32mimport\u001b[0m \u001b[0mopenai\u001b[0m\u001b[1;33m\u001b[0m\u001b[1;33m\u001b[0m\u001b[0m\n\u001b[0m\u001b[0;32m      2\u001b[0m \u001b[1;32mfrom\u001b[0m \u001b[0mdotenv\u001b[0m \u001b[1;32mimport\u001b[0m \u001b[0mload_dotenv\u001b[0m\u001b[1;33m,\u001b[0m\u001b[0mfind_dotenv\u001b[0m\u001b[1;33m\u001b[0m\u001b[1;33m\u001b[0m\u001b[0m\n\u001b[0;32m      3\u001b[0m \u001b[1;32mimport\u001b[0m \u001b[0mos\u001b[0m\u001b[1;33m\u001b[0m\u001b[1;33m\u001b[0m\u001b[0m\n\u001b[0;32m      4\u001b[0m \u001b[1;32mimport\u001b[0m \u001b[0mpandas\u001b[0m \u001b[1;32mas\u001b[0m \u001b[0mpd\u001b[0m\u001b[1;33m\u001b[0m\u001b[1;33m\u001b[0m\u001b[0m\n",
      "\u001b[1;31mModuleNotFoundError\u001b[0m: No module named 'openai'"
     ]
    }
   ],
   "source": [
    "import openai\n",
    "from dotenv import load_dotenv,find_dotenv\n",
    "import os\n",
    "import pandas as pd"
   ]
  },
  {
   "cell_type": "code",
   "execution_count": 3,
   "metadata": {},
   "outputs": [
    {
     "data": {
      "text/plain": [
       "True"
      ]
     },
     "execution_count": 3,
     "metadata": {},
     "output_type": "execute_result"
    }
   ],
   "source": [
    "load_dotenv()"
   ]
  },
  {
   "cell_type": "code",
   "execution_count": 4,
   "metadata": {},
   "outputs": [],
   "source": [
    "openai.api_key=os.environ[\"OPENAI_API_KEY\"]"
   ]
  },
  {
   "cell_type": "code",
   "execution_count": 5,
   "metadata": {},
   "outputs": [],
   "source": [
    "#print(openai.api_key)"
   ]
  },
  {
   "cell_type": "markdown",
   "metadata": {},
   "source": [
    "# ##"
   ]
  },
  {
   "cell_type": "markdown",
   "metadata": {},
   "source": [
    "# Model"
   ]
  },
  {
   "cell_type": "code",
   "execution_count": 21,
   "metadata": {},
   "outputs": [],
   "source": [
    "#models=openai.Model.list()\n",
    "#print(models)"
   ]
  },
  {
   "cell_type": "code",
   "execution_count": 19,
   "metadata": {},
   "outputs": [],
   "source": [
    "#dir(models)"
   ]
  },
  {
   "cell_type": "code",
   "execution_count": 8,
   "metadata": {},
   "outputs": [],
   "source": [
    "Data=pd.DataFrame(models[\"data\"])"
   ]
  },
  {
   "cell_type": "code",
   "execution_count": 22,
   "metadata": {},
   "outputs": [],
   "source": [
    "#data"
   ]
  },
  {
   "cell_type": "code",
   "execution_count": null,
   "metadata": {},
   "outputs": [],
   "source": [
    "#Test_prompt1=\"explain llm\"\n",
    "#Test_prompt2=\"consider as exoert in data science and having knowledge of natural language and procesing explain what is llm\""
   ]
  },
  {
   "cell_type": "code",
   "execution_count": null,
   "metadata": {},
   "outputs": [],
   "source": [
    "#Test_prompt3 = \"\"\"Convert the following list of sports to Emojis :\n",
    "1. Cricket\n",
    "2. Football\n",
    "3. Tennis\n",
    "4. Cat\n",
    "5. Stars\n",
    "6. Moon\n",
    "\"\"\""
   ]
  },
  {
   "cell_type": "code",
   "execution_count": null,
   "metadata": {},
   "outputs": [],
   "source": [
    "#Test_prompt4 =\"\"\"Write a Python function that accepts first name, second name\n",
    "and birth date in string format as a parameter values \n",
    "and returns the full name, and the number of days from the birth date to today\"\"\""
   ]
  },
  {
   "cell_type": "code",
   "execution_count": 14,
   "metadata": {},
   "outputs": [],
   "source": [
    "text=\"Bismillah Ansari born in Sheikhpura and is the ceo of Anu Bishu Pvt.Ltd.\"\n",
    "Test_prompt5=f\"From the text: '{text}', extract named entities and categorizes as follows:{{Name : ,City : ,Org : }}.\""
   ]
  },
  {
   "cell_type": "code",
   "execution_count": 10,
   "metadata": {},
   "outputs": [],
   "source": [
    "text=\"i am sachin and i was born in delhi and love to play cricket.\"\n",
    "Test_prompt6=f\"From the text: '{text}',extract the named entities and categorize them as follows:{{name:,city:,sport:,}}.\""
   ]
  },
  {
   "cell_type": "code",
   "execution_count": 15,
   "metadata": {},
   "outputs": [],
   "source": [
    "response=openai.Completion.create(\n",
    "    model='text-davinci-003',\n",
    "    prompt=Test_prompt5,\n",
    "    max_tokens=100,\n",
    "    temperature=1,\n",
    "    n=2\n",
    ")"
   ]
  },
  {
   "cell_type": "code",
   "execution_count": 23,
   "metadata": {},
   "outputs": [],
   "source": [
    "#response[\"choices\"]"
   ]
  },
  {
   "cell_type": "code",
   "execution_count": 25,
   "metadata": {},
   "outputs": [],
   "source": [
    "#for c in response[\"choices\"]:\n",
    "    #print(c[\"text\"])"
   ]
  },
  {
   "cell_type": "code",
   "execution_count": null,
   "metadata": {},
   "outputs": [],
   "source": []
  }
 ],
 "metadata": {
  "kernelspec": {
   "display_name": "Python 3",
   "language": "python",
   "name": "python3"
  },
  "language_info": {
   "codemirror_mode": {
    "name": "ipython",
    "version": 3
   },
   "file_extension": ".py",
   "mimetype": "text/x-python",
   "name": "python",
   "nbconvert_exporter": "python",
   "pygments_lexer": "ipython3",
   "version": "3.8.5"
  }
 },
 "nbformat": 4,
 "nbformat_minor": 5
}
